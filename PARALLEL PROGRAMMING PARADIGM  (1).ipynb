{
 "cells": [
  {
   "cell_type": "markdown",
   "metadata": {},
   "source": [
    "# 1.Active ip addresses in system using threading "
   ]
  },
  {
   "cell_type": "code",
   "execution_count": 1,
   "metadata": {},
   "outputs": [
    {
     "name": "stdout",
     "output_type": "stream",
     "text": [
      "Status from  172.217.167.1 is Alive\n",
      "Status from  172.217.167.1 is Alive\n",
      "Status from  172.217.167.2 is Alive\n",
      "Status from  172.217.167.1 is Alive\n",
      "Status from  172.217.167.2 is Alive\n",
      "Status from  172.217.167.3 is Alive\n",
      "Status from  172.217.167.1 is Alive\n",
      "Status from  172.217.167.2 is Alive\n",
      "Status from  172.217.167.3 is Alive\n",
      "Status from  172.217.167.4 is Alive\n"
     ]
    }
   ],
   "source": [
    "import os\n",
    "import re\n",
    "from threading import Thread\n",
    "\n",
    "\n",
    "class testit(Thread):\n",
    "   def __init__ (self,ip):\n",
    "      Thread.__init__(self)\n",
    "      self.ip = ip\n",
    "      self.status = -1\n",
    "   def run(self):\n",
    "        pingaling = os.popen(\"ping -q -c2 \"+self.ip,\"r\")\n",
    "      \n",
    "        line = pingaling.readline()#used to read ip address statistics\n",
    "        \n",
    "        igot = re.findall(testit.lifeline,line)#it is used to find 1st parameter in the line\n",
    "        if igot:\n",
    "           self.status = int(igot[0])\n",
    "\n",
    "testit.lifeline = re.compile(r\"(\\d) received\")# basically it is used to match patterns\n",
    "report = (\"No response\",\"Partial Response\",\"Alive\")\n",
    "\n",
    "\n",
    "\n",
    "\n",
    "pinglist = []\n",
    "\n",
    "\n",
    "\n",
    "\n",
    "for host in range(1,5):\n",
    "   ip = \"172.217.167.\"+str(host)\n",
    "   current = testit(ip)\n",
    "   pinglist.append(current)\n",
    "   current.start()\n",
    "\n",
    "   for pingle in pinglist:\n",
    "    \n",
    "       pingle.join()\n",
    "       print(\"Status from \",pingle.ip,\"is\",report[pingle.status])\n",
    "\n",
    "\n"
   ]
  },
  {
   "cell_type": "markdown",
   "metadata": {},
   "source": [
    "# 2. 2 producers and 2 consumers problem for Queue"
   ]
  },
  {
   "cell_type": "code",
   "execution_count": 2,
   "metadata": {},
   "outputs": [
    {
     "name": "stdout",
     "output_type": "stream",
     "text": [
      "produced required product\n",
      "consumer 1 counsumed 13\n",
      "consumer 1 counsumed 14\n",
      "consumer 1 counsumed 15\n",
      "consumer 1 counsumed 16\n",
      "consumer 1 counsumed 17\n",
      "produced product\n",
      "consumer2 consumed 19\n",
      "consumer2 consumed 20\n",
      "consumer2 consumed 21\n",
      "consumer2 consumed 22\n",
      "consumer2 consumed 23\n"
     ]
    }
   ],
   "source": [
    "\n",
    "from threading import *\n",
    "\n",
    "\n",
    "\n",
    "queue=[]\n",
    "queue1=[]\n",
    "lock=Lock()\n",
    "\n",
    "class producer1(Thread):\n",
    "    def run(self):\n",
    "        global queue\n",
    "\n",
    "        lock.acquire()\n",
    "        for i in range(13,19):\n",
    "                  queue.append(i)\n",
    "        print(\"produced required product\")\n",
    "        lock.release()\n",
    "\n",
    "class producer2(Thread):\n",
    "    def run(self):\n",
    "        global queue1\n",
    "\n",
    "        lock.acquire()\n",
    "        for i in range(19,25):\n",
    "                    queue1.append(i)\n",
    "        print(\"produced product\")\n",
    "        lock.release()\n",
    "\n",
    "\n",
    "class consumer1(Thread):\n",
    "    def run(self):\n",
    "        global queue\n",
    "\n",
    "        lock.acquire()\n",
    "        if not queue:\n",
    "                print(\"nothing in queue but consumer will try\")\n",
    "        for i in range(5):\n",
    "                  print(\"consumer 1 counsumed\",queue.pop(0))\n",
    "        lock.release()\n",
    "\n",
    "\n",
    "class consumer2(Thread):\n",
    "    def run(self):\n",
    "        global queue1\n",
    "\n",
    "        lock.acquire()\n",
    "        if not queue1:\n",
    "                print(\"nothing in queue1 but consumer will try\")\n",
    "        for i in range(5):\n",
    "                print(\"consumer2 consumed\",queue1.pop(0))\n",
    "        lock.release()\n",
    "\n",
    "\n",
    "p1=producer1()\n",
    "p2=producer2()\n",
    "c1=consumer1()\n",
    "c2=consumer2()\n",
    "p1.start()\n",
    "c1.start()\n",
    "p1.join()\n",
    "c1.join()\n",
    "p2.start()\n",
    "c2.start()\n",
    "p2.join()\n",
    "c2.join()\n",
    "\n",
    "\n"
   ]
  },
  {
   "cell_type": "markdown",
   "metadata": {},
   "source": [
    "# 3.Reversing of strings using threading and using any synchronization method[used lock method here]"
   ]
  },
  {
   "cell_type": "code",
   "execution_count": null,
   "metadata": {},
   "outputs": [
    {
     "name": "stdout",
     "output_type": "stream",
     "text": [
      " enter string to be reversedhello\n",
      "user entered string: hello\n",
      "reverse of user input: olleh\n",
      " yes\n",
      " enter string to be reversedhai\n",
      "user entered string: hai\n",
      "reverse of user input: iah\n",
      " yes\n",
      " enter string to be reversedhello world\n",
      "user entered string: hello world\n",
      "reverse of user input: dlrow olleh\n"
     ]
    }
   ],
   "source": [
    "from threading import Thread,Lock\n",
    "\n",
    "\n",
    "\n",
    "lock=Lock()\n",
    "def main():\n",
    "\n",
    "   def ru1(sen):\n",
    "\n",
    "               lock.acquire()\n",
    "\n",
    "               print(\"user entered string:\",sen)\n",
    "               lock.release()\n",
    "\n",
    "\n",
    "\n",
    "   def ru(sen):\n",
    "\n",
    "           lock.acquire()\n",
    "\n",
    "           print(\"reverse of user input:\",sen[::-1])\n",
    "           lock.release()\n",
    "\n",
    "\n",
    "   sen=input(\" enter string to be reversed  \")\n",
    "   p=Thread(target=ru1,args=(sen,))\n",
    "   p.start()\n",
    "   q=Thread(target=ru,args=(sen,))\n",
    "   q.start()\n",
    "   p.join()\n",
    "   q.join()\n",
    "   rest=input(\" \").lower()\n",
    "   if rest==\"yes\":\n",
    "       main()\n",
    "   else:\n",
    "       exit()\n",
    "\n",
    "main()\n",
    "\n"
   ]
  },
  {
   "cell_type": "code",
   "execution_count": null,
   "metadata": {},
   "outputs": [],
   "source": []
  },
  {
   "cell_type": "code",
   "execution_count": null,
   "metadata": {},
   "outputs": [],
   "source": []
  },
  {
   "cell_type": "code",
   "execution_count": null,
   "metadata": {},
   "outputs": [],
   "source": []
  },
  {
   "cell_type": "code",
   "execution_count": null,
   "metadata": {},
   "outputs": [],
   "source": []
  },
  {
   "cell_type": "code",
   "execution_count": null,
   "metadata": {},
   "outputs": [],
   "source": []
  },
  {
   "cell_type": "code",
   "execution_count": null,
   "metadata": {},
   "outputs": [],
   "source": []
  },
  {
   "cell_type": "code",
   "execution_count": null,
   "metadata": {},
   "outputs": [],
   "source": []
  },
  {
   "cell_type": "code",
   "execution_count": null,
   "metadata": {},
   "outputs": [],
   "source": []
  }
 ],
 "metadata": {
  "kernelspec": {
   "display_name": "Python 3",
   "language": "python",
   "name": "python3"
  },
  "language_info": {
   "codemirror_mode": {
    "name": "ipython",
    "version": 3
   },
   "file_extension": ".py",
   "mimetype": "text/x-python",
   "name": "python",
   "nbconvert_exporter": "python",
   "pygments_lexer": "ipython3",
   "version": "3.7.4"
  }
 },
 "nbformat": 4,
 "nbformat_minor": 2
}
